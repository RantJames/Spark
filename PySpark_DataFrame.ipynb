{
 "cells": [
  {
   "cell_type": "code",
   "execution_count": 1,
   "id": "ad6d0c07",
   "metadata": {},
   "outputs": [],
   "source": [
    "from pyspark.sql import SparkSession\n",
    "from pyspark.sql.types import *"
   ]
  },
  {
   "cell_type": "code",
   "execution_count": 2,
   "id": "7c88be34",
   "metadata": {},
   "outputs": [
    {
     "name": "stdout",
     "output_type": "stream",
     "text": [
      "22/12/29 20:18:01 WARN Utils: Your hostname, RUBIN resolves to a loopback address: 127.0.1.1; using 172.21.87.182 instead (on interface eth0)\n",
      "22/12/29 20:18:01 WARN Utils: Set SPARK_LOCAL_IP if you need to bind to another address\n"
     ]
    },
    {
     "name": "stderr",
     "output_type": "stream",
     "text": [
      "Setting default log level to \"WARN\".\n",
      "To adjust logging level use sc.setLogLevel(newLevel). For SparkR, use setLogLevel(newLevel).\n"
     ]
    },
    {
     "name": "stdout",
     "output_type": "stream",
     "text": [
      "22/12/29 20:18:03 WARN NativeCodeLoader: Unable to load native-hadoop library for your platform... using builtin-java classes where applicable\n",
      "22/12/29 20:18:05 WARN Utils: Service 'SparkUI' could not bind on port 4040. Attempting port 4041.\n"
     ]
    }
   ],
   "source": [
    "spark = SparkSession.builder.config(\"spark.some.config.option\", \"some-value\").getOrCreate()"
   ]
  },
  {
   "cell_type": "code",
   "execution_count": 3,
   "id": "77970766",
   "metadata": {},
   "outputs": [
    {
     "name": "stderr",
     "output_type": "stream",
     "text": [
      "                                                                                \r"
     ]
    }
   ],
   "source": [
    "df = spark.read.json(\"people.json\")"
   ]
  },
  {
   "cell_type": "code",
   "execution_count": 4,
   "id": "5060183a",
   "metadata": {},
   "outputs": [
    {
     "data": {
      "text/plain": [
       "DataFrame[age: bigint, name: string]"
      ]
     },
     "execution_count": 4,
     "metadata": {},
     "output_type": "execute_result"
    }
   ],
   "source": [
    "df"
   ]
  },
  {
   "cell_type": "code",
   "execution_count": 11,
   "id": "367a9bd9",
   "metadata": {},
   "outputs": [
    {
     "data": {
      "text/plain": [
       "[Row(age=None, name='Michael'),\n",
       " Row(age=30, name='Andy'),\n",
       " Row(age=19, name='Justin')]"
      ]
     },
     "execution_count": 11,
     "metadata": {},
     "output_type": "execute_result"
    }
   ],
   "source": [
    "df.head(10)"
   ]
  },
  {
   "cell_type": "code",
   "execution_count": 12,
   "id": "5e1e58cc",
   "metadata": {},
   "outputs": [
    {
     "name": "stdout",
     "output_type": "stream",
     "text": [
      "+----+-------+\n",
      "| age|   name|\n",
      "+----+-------+\n",
      "|null|Michael|\n",
      "|  30|   Andy|\n",
      "|  19| Justin|\n",
      "+----+-------+\n",
      "\n"
     ]
    }
   ],
   "source": [
    "df.show()"
   ]
  },
  {
   "cell_type": "code",
   "execution_count": 13,
   "id": "c7ef0865",
   "metadata": {},
   "outputs": [
    {
     "name": "stdout",
     "output_type": "stream",
     "text": [
      "root\n",
      " |-- age: long (nullable = true)\n",
      " |-- name: string (nullable = true)\n",
      "\n"
     ]
    }
   ],
   "source": [
    "df.printSchema()"
   ]
  },
  {
   "cell_type": "code",
   "execution_count": 15,
   "id": "ef662539",
   "metadata": {},
   "outputs": [
    {
     "name": "stdout",
     "output_type": "stream",
     "text": [
      "+-------+\n",
      "|   name|\n",
      "+-------+\n",
      "|Michael|\n",
      "|   Andy|\n",
      "| Justin|\n",
      "+-------+\n",
      "\n"
     ]
    }
   ],
   "source": [
    "df.select(\"name\").show()"
   ]
  },
  {
   "cell_type": "code",
   "execution_count": 23,
   "id": "2c74707a",
   "metadata": {},
   "outputs": [
    {
     "name": "stdout",
     "output_type": "stream",
     "text": [
      "+-------+---------+\n",
      "|   name|(age + 1)|\n",
      "+-------+---------+\n",
      "|Michael|     null|\n",
      "|   Andy|       31|\n",
      "| Justin|       20|\n",
      "+-------+---------+\n",
      "\n"
     ]
    }
   ],
   "source": [
    "df.select([\"name\", df['age'] + 1]).show()"
   ]
  },
  {
   "cell_type": "code",
   "execution_count": 25,
   "id": "3f08ec04",
   "metadata": {},
   "outputs": [],
   "source": [
    "df2 = df.select([\"name\", df['age'] + 1])"
   ]
  },
  {
   "cell_type": "code",
   "execution_count": 26,
   "id": "0eb20b45",
   "metadata": {},
   "outputs": [
    {
     "name": "stdout",
     "output_type": "stream",
     "text": [
      "+-------+---------+\n",
      "|   name|(age + 1)|\n",
      "+-------+---------+\n",
      "|Michael|     null|\n",
      "|   Andy|       31|\n",
      "| Justin|       20|\n",
      "+-------+---------+\n",
      "\n"
     ]
    }
   ],
   "source": [
    "df2.show()"
   ]
  },
  {
   "cell_type": "code",
   "execution_count": 29,
   "id": "c6b994a6",
   "metadata": {},
   "outputs": [
    {
     "name": "stdout",
     "output_type": "stream",
     "text": [
      "+---+----+\n",
      "|age|name|\n",
      "+---+----+\n",
      "| 30|Andy|\n",
      "+---+----+\n",
      "\n"
     ]
    }
   ],
   "source": [
    "df[df[\"age\"] > 25].show()"
   ]
  },
  {
   "cell_type": "code",
   "execution_count": 32,
   "id": "75987169",
   "metadata": {},
   "outputs": [
    {
     "name": "stdout",
     "output_type": "stream",
     "text": [
      "+---+------+\n",
      "|age|  name|\n",
      "+---+------+\n",
      "| 30|  Andy|\n",
      "| 19|Justin|\n",
      "+---+------+\n",
      "\n"
     ]
    }
   ],
   "source": [
    "df.filter(df[\"age\"] > 15).show()"
   ]
  },
  {
   "cell_type": "code",
   "execution_count": 38,
   "id": "bc4603d7",
   "metadata": {},
   "outputs": [
    {
     "name": "stdout",
     "output_type": "stream",
     "text": [
      "+----+-------+\n",
      "| age|   name|\n",
      "+----+-------+\n",
      "|null|Michael|\n",
      "+----+-------+\n",
      "\n"
     ]
    }
   ],
   "source": [
    "df[df[\"age\"].isNull()].show()"
   ]
  },
  {
   "cell_type": "code",
   "execution_count": 40,
   "id": "7961305f",
   "metadata": {},
   "outputs": [
    {
     "name": "stdout",
     "output_type": "stream",
     "text": [
      "+---+------+\n",
      "|age|  name|\n",
      "+---+------+\n",
      "| 30|  Andy|\n",
      "| 19|Justin|\n",
      "+---+------+\n",
      "\n"
     ]
    }
   ],
   "source": [
    "df.filter(df['age'].isNotNull()).show()"
   ]
  },
  {
   "cell_type": "code",
   "execution_count": 42,
   "id": "dee9c539",
   "metadata": {},
   "outputs": [
    {
     "name": "stdout",
     "output_type": "stream",
     "text": [
      "+----+-----+\n",
      "| age|count|\n",
      "+----+-----+\n",
      "|  19|    1|\n",
      "|null|    1|\n",
      "|  30|    1|\n",
      "+----+-----+\n",
      "\n"
     ]
    }
   ],
   "source": [
    "df.groupBy(\"age\").count().show()"
   ]
  },
  {
   "cell_type": "markdown",
   "id": "61504cc0",
   "metadata": {},
   "source": [
    "# Registering DataFrame as SQL temporary view"
   ]
  },
  {
   "cell_type": "code",
   "execution_count": 43,
   "id": "d38447ca",
   "metadata": {},
   "outputs": [],
   "source": [
    "df.createOrReplaceTempView(\"people\")"
   ]
  },
  {
   "cell_type": "code",
   "execution_count": 44,
   "id": "2959ce62",
   "metadata": {},
   "outputs": [],
   "source": [
    "sqlDF = spark.sql(\"Select * from people\")"
   ]
  },
  {
   "cell_type": "code",
   "execution_count": 45,
   "id": "23636cc3",
   "metadata": {},
   "outputs": [
    {
     "name": "stdout",
     "output_type": "stream",
     "text": [
      "+----+-------+\n",
      "| age|   name|\n",
      "+----+-------+\n",
      "|null|Michael|\n",
      "|  30|   Andy|\n",
      "|  19| Justin|\n",
      "+----+-------+\n",
      "\n"
     ]
    }
   ],
   "source": [
    "sqlDF.show()"
   ]
  },
  {
   "cell_type": "code",
   "execution_count": 48,
   "id": "471f5647",
   "metadata": {},
   "outputs": [
    {
     "name": "stdout",
     "output_type": "stream",
     "text": [
      "+---+------+\n",
      "|age|  name|\n",
      "+---+------+\n",
      "| 30|  Andy|\n",
      "| 19|Justin|\n",
      "+---+------+\n",
      "\n"
     ]
    }
   ],
   "source": [
    "spark.sql(\"Select * from people where age > 15\").show()"
   ]
  },
  {
   "cell_type": "markdown",
   "id": "f85b7110",
   "metadata": {},
   "source": [
    "# SparkContext RDD"
   ]
  },
  {
   "cell_type": "code",
   "execution_count": 54,
   "id": "317ca044",
   "metadata": {},
   "outputs": [],
   "source": [
    "sc = spark.sparkContext"
   ]
  },
  {
   "cell_type": "code",
   "execution_count": 55,
   "id": "79326703",
   "metadata": {},
   "outputs": [],
   "source": [
    "lines = sc.textFile(\"people.txt\")"
   ]
  },
  {
   "cell_type": "code",
   "execution_count": 56,
   "id": "c553e8d7",
   "metadata": {},
   "outputs": [
    {
     "name": "stderr",
     "output_type": "stream",
     "text": [
      "                                                                                \r"
     ]
    },
    {
     "data": {
      "text/plain": [
       "['Michael, 29', 'Justin, 19', 'Andy, 30']"
      ]
     },
     "execution_count": 56,
     "metadata": {},
     "output_type": "execute_result"
    }
   ],
   "source": [
    "lines.top(3)"
   ]
  },
  {
   "cell_type": "code",
   "execution_count": 57,
   "id": "7c77e055",
   "metadata": {},
   "outputs": [
    {
     "data": {
      "text/plain": [
       "['Michael, 29', 'Andy, 30']"
      ]
     },
     "execution_count": 57,
     "metadata": {},
     "output_type": "execute_result"
    }
   ],
   "source": [
    "lines.take(2)"
   ]
  },
  {
   "cell_type": "code",
   "execution_count": 59,
   "id": "16a28871",
   "metadata": {},
   "outputs": [],
   "source": [
    "parts = lines.map(lambda x : x.split(\",\"))"
   ]
  },
  {
   "cell_type": "code",
   "execution_count": 60,
   "id": "723e00b8",
   "metadata": {},
   "outputs": [
    {
     "data": {
      "text/plain": [
       "[['Michael', ' 29'], ['Justin', ' 19'], ['Andy', ' 30']]"
      ]
     },
     "execution_count": 60,
     "metadata": {},
     "output_type": "execute_result"
    }
   ],
   "source": [
    "parts.top(3)"
   ]
  },
  {
   "cell_type": "code",
   "execution_count": 64,
   "id": "b75d678b",
   "metadata": {},
   "outputs": [],
   "source": [
    "parts_tuple = parts.map(lambda x : (x[0], x[1].strip()))"
   ]
  },
  {
   "cell_type": "code",
   "execution_count": 66,
   "id": "dc55d898",
   "metadata": {},
   "outputs": [
    {
     "data": {
      "text/plain": [
       "[('Michael', '29'), ('Andy', '30'), ('Justin', '19')]"
      ]
     },
     "execution_count": 66,
     "metadata": {},
     "output_type": "execute_result"
    }
   ],
   "source": [
    "parts_tuple.collect()"
   ]
  },
  {
   "cell_type": "markdown",
   "id": "a5253e16",
   "metadata": {},
   "source": [
    "# Programmatic_schema_example"
   ]
  },
  {
   "cell_type": "code",
   "execution_count": 67,
   "id": "a9bdfd54",
   "metadata": {},
   "outputs": [],
   "source": [
    "sc = spark.sparkContext"
   ]
  },
  {
   "cell_type": "code",
   "execution_count": 75,
   "id": "f1512635",
   "metadata": {},
   "outputs": [],
   "source": [
    "lines = sc.textFile(\"people.txt\")\n",
    "parts = lines.map(lambda x : x.split(\",\"))\n",
    "split_parts = parts.map(lambda p : (p[0], p[1].strip()))"
   ]
  },
  {
   "cell_type": "code",
   "execution_count": 77,
   "id": "97e14f63",
   "metadata": {},
   "outputs": [
    {
     "data": {
      "text/plain": [
       "[['Michael', ' 29'], ['Andy', ' 30'], ['Justin', ' 19']]"
      ]
     },
     "execution_count": 77,
     "metadata": {},
     "output_type": "execute_result"
    }
   ],
   "source": [
    "parts.collect()"
   ]
  },
  {
   "cell_type": "code",
   "execution_count": 76,
   "id": "69d367ec",
   "metadata": {},
   "outputs": [
    {
     "data": {
      "text/plain": [
       "[('Michael', '29'), ('Andy', '30'), ('Justin', '19')]"
      ]
     },
     "execution_count": 76,
     "metadata": {},
     "output_type": "execute_result"
    }
   ],
   "source": [
    "split_parts.collect()"
   ]
  },
  {
   "cell_type": "markdown",
   "id": "f801e76d",
   "metadata": {},
   "source": [
    "# Defining a schema"
   ]
  },
  {
   "cell_type": "code",
   "execution_count": 83,
   "id": "5d92b74a",
   "metadata": {},
   "outputs": [],
   "source": [
    " schema = StructType([\n",
    "     StructField('name', StringType(), True),\n",
    "     StructField('age', StringType(), True)\n",
    " ])"
   ]
  },
  {
   "cell_type": "code",
   "execution_count": 79,
   "id": "0574775f",
   "metadata": {},
   "outputs": [],
   "source": [
    "# applying schema to RDD"
   ]
  },
  {
   "cell_type": "code",
   "execution_count": 84,
   "id": "1183a3a7",
   "metadata": {},
   "outputs": [],
   "source": [
    "schemaPeople = spark.createDataFrame(split_parts, schema)"
   ]
  },
  {
   "cell_type": "code",
   "execution_count": 85,
   "id": "edf3a85f",
   "metadata": {},
   "outputs": [
    {
     "name": "stdout",
     "output_type": "stream",
     "text": [
      "+-------+---+\n",
      "|   name|age|\n",
      "+-------+---+\n",
      "|Michael| 29|\n",
      "|   Andy| 30|\n",
      "| Justin| 19|\n",
      "+-------+---+\n",
      "\n"
     ]
    }
   ],
   "source": [
    "schemaPeople.show()"
   ]
  },
  {
   "cell_type": "code",
   "execution_count": 86,
   "id": "a31373ae",
   "metadata": {},
   "outputs": [],
   "source": [
    "# creating temporary Table/view"
   ]
  },
  {
   "cell_type": "code",
   "execution_count": 87,
   "id": "b15e4321",
   "metadata": {},
   "outputs": [],
   "source": [
    "schemaPeople.createOrReplaceTempView(\"people\")"
   ]
  },
  {
   "cell_type": "code",
   "execution_count": 94,
   "id": "48030143",
   "metadata": {},
   "outputs": [
    {
     "name": "stdout",
     "output_type": "stream",
     "text": [
      "+-------+---+\n",
      "|   name|age|\n",
      "+-------+---+\n",
      "|Michael| 29|\n",
      "|   Andy| 30|\n",
      "| Justin| 19|\n",
      "+-------+---+\n",
      "\n"
     ]
    }
   ],
   "source": [
    "spark.sql(\"select * from people where age >= 19\").show()"
   ]
  },
  {
   "cell_type": "code",
   "execution_count": 95,
   "id": "aa79d022",
   "metadata": {},
   "outputs": [],
   "source": [
    "spark.stop()"
   ]
  },
  {
   "cell_type": "code",
   "execution_count": null,
   "id": "6eba5f53",
   "metadata": {},
   "outputs": [],
   "source": []
  }
 ],
 "metadata": {
  "kernelspec": {
   "display_name": "Python 3 (ipykernel)",
   "language": "python",
   "name": "python3"
  },
  "language_info": {
   "codemirror_mode": {
    "name": "ipython",
    "version": 3
   },
   "file_extension": ".py",
   "mimetype": "text/x-python",
   "name": "python",
   "nbconvert_exporter": "python",
   "pygments_lexer": "ipython3",
   "version": "3.10.6"
  }
 },
 "nbformat": 4,
 "nbformat_minor": 5
}
