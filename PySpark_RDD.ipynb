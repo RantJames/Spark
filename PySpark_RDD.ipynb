{
 "cells": [
  {
   "cell_type": "code",
   "execution_count": 3,
   "id": "58a1e7b5",
   "metadata": {},
   "outputs": [],
   "source": [
    "import pyspark\n",
    "from pyspark import SparkContext"
   ]
  },
  {
   "cell_type": "code",
   "execution_count": 5,
   "id": "581d711b",
   "metadata": {},
   "outputs": [
    {
     "name": "stdout",
     "output_type": "stream",
     "text": [
      "22/12/29 19:31:39 WARN Utils: Your hostname, RUBIN resolves to a loopback address: 127.0.1.1; using 172.21.87.182 instead (on interface eth0)\n",
      "22/12/29 19:31:39 WARN Utils: Set SPARK_LOCAL_IP if you need to bind to another address\n"
     ]
    },
    {
     "name": "stderr",
     "output_type": "stream",
     "text": [
      "Setting default log level to \"WARN\".\n",
      "To adjust logging level use sc.setLogLevel(newLevel). For SparkR, use setLogLevel(newLevel).\n"
     ]
    },
    {
     "name": "stdout",
     "output_type": "stream",
     "text": [
      "22/12/29 19:31:41 WARN NativeCodeLoader: Unable to load native-hadoop library for your platform... using builtin-java classes where applicable\n"
     ]
    }
   ],
   "source": [
    "sc = SparkContext()"
   ]
  },
  {
   "cell_type": "code",
   "execution_count": 6,
   "id": "ac7a1bfa",
   "metadata": {},
   "outputs": [],
   "source": [
    "input = sc.textFile(\"/home/rant_james/samplefolder/survey_results_public.csv\")"
   ]
  },
  {
   "cell_type": "code",
   "execution_count": 7,
   "id": "84bd01f6",
   "metadata": {},
   "outputs": [
    {
     "data": {
      "text/plain": [
       "/home/rant_james/samplefolder/survey_results_public.csv MapPartitionsRDD[1] at textFile at NativeMethodAccessorImpl.java:0"
      ]
     },
     "execution_count": 7,
     "metadata": {},
     "output_type": "execute_result"
    }
   ],
   "source": [
    "input"
   ]
  },
  {
   "cell_type": "code",
   "execution_count": 42,
   "id": "004ea249",
   "metadata": {},
   "outputs": [
    {
     "data": {
      "text/plain": [
       "[('1', 11111),\n",
       " ('2', 11111),\n",
       " ('3', 11111),\n",
       " ('4', 11111),\n",
       " ('5', 11111),\n",
       " ('6', 11111),\n",
       " ('7', 11111),\n",
       " ('8', 4551),\n",
       " ('9', 1111),\n",
       " ('R', 1)]"
      ]
     },
     "execution_count": 42,
     "metadata": {},
     "output_type": "execute_result"
    }
   ],
   "source": [
    "sorted(input.countByKey().items())"
   ]
  },
  {
   "cell_type": "code",
   "execution_count": 9,
   "id": "ddaac8d4",
   "metadata": {},
   "outputs": [
    {
     "data": {
      "text/plain": [
       "['ResponseId,MainBranch,Employment,Country,US_State,UK_Country,EdLevel,Age1stCode,LearnCode,YearsCode,YearsCodePro,DevType,OrgSize,Currency,CompTotal,CompFreq,LanguageHaveWorkedWith,LanguageWantToWorkWith,DatabaseHaveWorkedWith,DatabaseWantToWorkWith,PlatformHaveWorkedWith,PlatformWantToWorkWith,WebframeHaveWorkedWith,WebframeWantToWorkWith,MiscTechHaveWorkedWith,MiscTechWantToWorkWith,ToolsTechHaveWorkedWith,ToolsTechWantToWorkWith,NEWCollabToolsHaveWorkedWith,NEWCollabToolsWantToWorkWith,OpSys,NEWStuck,NEWSOSites,SOVisitFreq,SOAccount,SOPartFreq,SOComm,NEWOtherComms,Age,Gender,Trans,Sexuality,Ethnicity,Accessibility,MentalHealth,SurveyLength,SurveyEase,ConvertedCompYearly',\n",
       " '9999,I am a developer by profession,Employed full-time,Japan,NA,NA,\"Bachelor’s degree (B.A., B.S., B.Eng., etc.)\",18 - 24 years,School,5,3,\"Engineer, data\",100 to 499 employees,JPY\\tJapanese yen,275000,Monthly,Node.js;Python;SQL;Swift,Node.js;Python;Swift,MongoDB;MySQL,MongoDB;MySQL,AWS;Microsoft Azure,AWS;Microsoft Azure,Angular;Express,Angular;Express,Keras;Pandas;TensorFlow;Torch/PyTorch,Keras;Pandas;TensorFlow;Torch/PyTorch,Docker;Git;Kubernetes;Unity 3D;Unreal Engine,Docker;Git;Kubernetes;Unity 3D,IPython/Jupyter;Visual Studio;Visual Studio Code;Xcode,IPython/Jupyter;Visual Studio;Visual Studio Code;Xcode,MacOS,Call a coworker or friend;Visit Stack Overflow;Go for a walk or other physical activity;Google it;Watch help / tutorial videos;Do other work and come back later,Stack Overflow;Stack Exchange,A few times per month or weekly,Yes,Less than once per month or monthly,Neutral,No,25-34 years old,Man,No,Straight / Heterosexual,Southeast Asian,None of the above,None of the above,Appropriate in length,Easy,29676',\n",
       " '9998,I am a developer by profession,Employed full-time,Viet Nam,NA,NA,\"Bachelor’s degree (B.A., B.S., B.Eng., etc.)\",Younger than 5 years,\"Other online resources (ex: videos, blogs, etc);Online Forum;Online Courses or Certification;Colleague\",4,2,\"Developer, front-end;Developer, full-stack;Developer, back-end\",100 to 499 employees,VND\\tVietnamese dong,NA,Monthly,C#,C#,Microsoft SQL Server;MySQL,Microsoft SQL Server;MySQL,Microsoft Azure,Microsoft Azure,Angular;Angular.js;ASP.NET;ASP.NET Core ;jQuery,Angular;Angular.js;ASP.NET;ASP.NET Core ;jQuery;React.js,.NET Framework;.NET Core / .NET 5,.NET Framework;.NET Core / .NET 5;React Native,Git,Git;Xamarin,NetBeans;Notepad++;Sublime Text;Visual Studio;Visual Studio Code,Android Studio;Notepad++;Vim;Visual Studio;Visual Studio Code,Windows,Call a coworker or friend;Visit Stack Overflow;Google it;Visit another developer community (please name):,Stack Overflow,Multiple times per day,Yes,Less than once per month or monthly,\"Yes, somewhat\",No,25-34 years old,Man,No,Straight / Heterosexual,Southeast Asian,None of the above,None of the above,Too long,Easy,NA']"
      ]
     },
     "execution_count": 9,
     "metadata": {},
     "output_type": "execute_result"
    }
   ],
   "source": [
    "input.top(3)"
   ]
  },
  {
   "cell_type": "code",
   "execution_count": 57,
   "id": "01fe334f",
   "metadata": {
    "scrolled": true
   },
   "outputs": [
    {
     "data": {
      "text/plain": [
       "[['ResponseId,MainBranch,Employment,Country,US_State,UK_Country,EdLevel,Age1stCode,LearnCode,YearsCode,YearsCodePro,DevType,OrgSize,Currency,CompTotal,CompFreq,LanguageHaveWorkedWith,LanguageWantToWorkWith,DatabaseHaveWorkedWith,DatabaseWantToWorkWith,PlatformHaveWorkedWith,PlatformWantToWorkWith,WebframeHaveWorkedWith,WebframeWantToWorkWith,MiscTechHaveWorkedWith,MiscTechWantToWorkWith,ToolsTechHaveWorkedWith,ToolsTechWantToWorkWith,NEWCollabToolsHaveWorkedWith,NEWCollabToolsWantToWorkWith,OpSys,NEWStuck,NEWSOSites,SOVisitFreq,SOAccount,SOPartFreq,SOComm,NEWOtherComms,Age,Gender,Trans,Sexuality,Ethnicity,Accessibility,MentalHealth,SurveyLength,SurveyEase,ConvertedCompYearly'],\n",
       " ['9999,I am a developer by profession,Employed full-time,Japan,NA,NA,\"Bachelor’s degree (B.A., B.S., B.Eng., etc.)\",18 - 24 years,School,5,3,\"Engineer, data\",100 to 499 employees,JPY\\tJapanese yen,275000,Monthly,Node.js',\n",
       "  'Python',\n",
       "  'SQL',\n",
       "  'Swift,Node.js',\n",
       "  'Python',\n",
       "  'Swift,MongoDB',\n",
       "  'MySQL,MongoDB',\n",
       "  'MySQL,AWS',\n",
       "  'Microsoft Azure,AWS',\n",
       "  'Microsoft Azure,Angular',\n",
       "  'Express,Angular',\n",
       "  'Express,Keras',\n",
       "  'Pandas',\n",
       "  'TensorFlow',\n",
       "  'Torch/PyTorch,Keras',\n",
       "  'Pandas',\n",
       "  'TensorFlow',\n",
       "  'Torch/PyTorch,Docker',\n",
       "  'Git',\n",
       "  'Kubernetes',\n",
       "  'Unity 3D',\n",
       "  'Unreal Engine,Docker',\n",
       "  'Git',\n",
       "  'Kubernetes',\n",
       "  'Unity 3D,IPython/Jupyter',\n",
       "  'Visual Studio',\n",
       "  'Visual Studio Code',\n",
       "  'Xcode,IPython/Jupyter',\n",
       "  'Visual Studio',\n",
       "  'Visual Studio Code',\n",
       "  'Xcode,MacOS,Call a coworker or friend',\n",
       "  'Visit Stack Overflow',\n",
       "  'Go for a walk or other physical activity',\n",
       "  'Google it',\n",
       "  'Watch help / tutorial videos',\n",
       "  'Do other work and come back later,Stack Overflow',\n",
       "  'Stack Exchange,A few times per month or weekly,Yes,Less than once per month or monthly,Neutral,No,25-34 years old,Man,No,Straight / Heterosexual,Southeast Asian,None of the above,None of the above,Appropriate in length,Easy,29676']]"
      ]
     },
     "execution_count": 57,
     "metadata": {},
     "output_type": "execute_result"
    }
   ],
   "source": [
    "input.map(lambda x : x.split(\";\")).top(2)"
   ]
  },
  {
   "cell_type": "code",
   "execution_count": 55,
   "id": "d95c6561",
   "metadata": {},
   "outputs": [
    {
     "data": {
      "text/plain": [
       "[['ResponseId',\n",
       "  'MainBranch',\n",
       "  'Employment',\n",
       "  'Country',\n",
       "  'US_State',\n",
       "  'UK_Country',\n",
       "  'EdLevel',\n",
       "  'Age1stCode',\n",
       "  'LearnCode',\n",
       "  'YearsCode',\n",
       "  'YearsCodePro',\n",
       "  'DevType',\n",
       "  'OrgSize',\n",
       "  'Currency',\n",
       "  'CompTotal'],\n",
       " ['9999',\n",
       "  'I am a developer by profession',\n",
       "  'Employed full-time',\n",
       "  'Japan',\n",
       "  'NA',\n",
       "  'NA',\n",
       "  '\"Bachelor’s degree (B.A.',\n",
       "  ' B.S.',\n",
       "  ' B.Eng.',\n",
       "  ' etc.)\"',\n",
       "  '18 - 24 years',\n",
       "  'School',\n",
       "  '5',\n",
       "  '3',\n",
       "  '\"Engineer'],\n",
       " ['9998',\n",
       "  'I am a developer by profession',\n",
       "  'Employed full-time',\n",
       "  'Viet Nam',\n",
       "  'NA',\n",
       "  'NA',\n",
       "  '\"Bachelor’s degree (B.A.',\n",
       "  ' B.S.',\n",
       "  ' B.Eng.',\n",
       "  ' etc.)\"',\n",
       "  'Younger than 5 years',\n",
       "  '\"Other online resources (ex: videos',\n",
       "  ' blogs',\n",
       "  ' etc);Online Forum;Online Courses or Certification;Colleague\"',\n",
       "  '4']]"
      ]
     },
     "execution_count": 55,
     "metadata": {},
     "output_type": "execute_result"
    }
   ],
   "source": [
    "input.map(lambda x : x.split(\",\")[0:15]).top(3)"
   ]
  },
  {
   "cell_type": "code",
   "execution_count": null,
   "id": "e98a8613",
   "metadata": {},
   "outputs": [],
   "source": []
  }
 ],
 "metadata": {
  "kernelspec": {
   "display_name": "Python 3 (ipykernel)",
   "language": "python",
   "name": "python3"
  },
  "language_info": {
   "codemirror_mode": {
    "name": "ipython",
    "version": 3
   },
   "file_extension": ".py",
   "mimetype": "text/x-python",
   "name": "python",
   "nbconvert_exporter": "python",
   "pygments_lexer": "ipython3",
   "version": "3.10.6"
  }
 },
 "nbformat": 4,
 "nbformat_minor": 5
}
